{
 "cells": [
  {
   "cell_type": "code",
   "execution_count": 62,
   "id": "0e87a01f",
   "metadata": {},
   "outputs": [],
   "source": [
    "import numpy as np\n",
    "from matplotlib import pyplot as plt\n",
    "import math\n",
    "import random\n",
    "import csv\n",
    "import io"
   ]
  },
  {
   "cell_type": "code",
   "execution_count": 66,
   "id": "ffa577a9",
   "metadata": {},
   "outputs": [
    {
     "data": {
      "text/plain": [
       "[<matplotlib.lines.Line2D at 0x1a0aa4dc0>,\n",
       " <matplotlib.lines.Line2D at 0x1a0aa4e20>]"
      ]
     },
     "execution_count": 66,
     "metadata": {},
     "output_type": "execute_result"
    },
    {
     "data": {
      "image/png": "[encoded data removed]",
      "text/plain": [
       "<Figure size 432x288 with 1 Axes>"
      ]
     },
     "metadata": {
      "needs_background": "light"
     },
     "output_type": "display_data"
    }
   ],
   "source": [
    "def estimate_gen(start_x, n_members):\n",
    "    def estimate(net_worth):\n",
    "        if net_worth < start_x:\n",
    "            return 0\n",
    "        return n_members / 9 * math.log10(net_worth - start_x + 1)\n",
    "    return estimate\n",
    "\n",
    "START_X = 240_000\n",
    "MAX_X = 10**9\n",
    "N_MEMBERS = 1017\n",
    "estimate = estimate_gen(START_X, N_MEMBERS)\n",
    "\n",
    "prev = 0\n",
    "xs = []\n",
    "ys = []\n",
    "for x in range(0, MAX_X, 1000):\n",
    "    xs.append(x)\n",
    "    e = estimate(x)\n",
    "    if e > 0:\n",
    "        e += random.randrange(0, 100)\n",
    "    y = int(round(max(prev, e)))\n",
    "    prev = y\n",
    "    ys.append(y)\n",
    "\n",
    "x = np.array(xs)\n",
    "y = np.vectorize(estimate)(x)\n",
    "d = np.array(ys, dtype=np.int64)\n",
    "plt.xlim([START_X, MAX_X])\n",
    "plt.plot(x, y, x, d)"
   ]
  },
  {
   "cell_type": "code",
   "execution_count": 67,
   "id": "417843ab",
   "metadata": {},
   "outputs": [],
   "source": [
    "def csv_write(filename, l):\n",
    "    with io.open(filename, 'w', newline='\\n') as f:\n",
    "        w = csv.writer(f)\n",
    "        for i in l:\n",
    "            w.writerow([i])\n",
    "csv_write('interest.csv', ys)"
   ]
  }
 ],
 "metadata": {
  "kernelspec": {
   "display_name": "Python 3 (ipykernel)",
   "language": "python",
   "name": "python3"
  },
  "language_info": {
   "codemirror_mode": {
    "name": "ipython",
    "version": 3
   },
   "file_extension": ".py",
   "mimetype": "text/x-python",
   "name": "python",
   "nbconvert_exporter": "python",
   "pygments_lexer": "ipython3",
   "version": "3.10.4"
  }
 },
 "nbformat": 4,
 "nbformat_minor": 5
}
